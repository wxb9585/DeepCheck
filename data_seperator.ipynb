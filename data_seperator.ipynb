{
 "cells": [
  {
   "cell_type": "code",
   "execution_count": 1,
   "metadata": {},
   "outputs": [],
   "source": [
    "import matplotlib.pyplot as plt\n",
    "import matplotlib.gridspec as gridspec\n",
    "import cv2\n",
    "\n",
    "import numpy as np\n",
    "%matplotlib inline\n",
    "import matplotlib.image as mpimg\n",
    "from PIL import Image\n",
    "import os\n",
    "import glob\n",
    "import cv2\n",
    "from keras_preprocessing import image as Kimage"
   ]
  },
  {
   "cell_type": "code",
   "execution_count": 10,
   "metadata": {},
   "outputs": [],
   "source": [
    "img_dir = \"images\" # Enter Directory of all images \n",
    "image_lst = Kimage.list_pictures(img_dir)\n",
    "for i in image_lst:\n",
    "    img = cv2.imread(i)\n",
    "    chance = np.random.randint(100)\n",
    "    ik = Image.fromarray(img)\n",
    "    if chance<30:\n",
    "        if not os.path.exists(\"sep_data/\" + \"val/\"+ i.split('/')[1]):\n",
    "            os.mkdir(\"sep_data/\" + \"val/\"+ i.split('/')[1])        \n",
    "        ik.save(\"sep_data/\" + \"val/\"+ i.split('/')[1] +\"/\"+ i.split('/')[-1])\n",
    "        \n",
    "    else:\n",
    "        if not os.path.exists(\"sep_data/\" + \"train/\"+ i.split('/')[1]):\n",
    "            os.mkdir(\"sep_data/\" + \"train/\"+ i.split('/')[1])   \n",
    "        ik.save(\"sep_data/\" + \"train/\"+ i.split('/')[1] +\"/\"+i.split('/')[-1])\n",
    "\n",
    "        "
   ]
  },
  {
   "cell_type": "code",
   "execution_count": null,
   "metadata": {},
   "outputs": [],
   "source": []
  }
 ],
 "metadata": {
  "kernelspec": {
   "display_name": "Python 3",
   "language": "python",
   "name": "python3"
  },
  "language_info": {
   "codemirror_mode": {
    "name": "ipython",
    "version": 3
   },
   "file_extension": ".py",
   "mimetype": "text/x-python",
   "name": "python",
   "nbconvert_exporter": "python",
   "pygments_lexer": "ipython3",
   "version": "3.7.7"
  }
 },
 "nbformat": 4,
 "nbformat_minor": 4
}
